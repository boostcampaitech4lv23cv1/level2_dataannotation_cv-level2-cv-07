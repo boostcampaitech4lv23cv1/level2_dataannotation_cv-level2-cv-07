{
 "cells": [
  {
   "cell_type": "code",
   "execution_count": 1,
   "metadata": {},
   "outputs": [],
   "source": [
    "import json\n",
    "import pandas as pd"
   ]
  },
  {
   "cell_type": "code",
   "execution_count": 2,
   "metadata": {},
   "outputs": [],
   "source": [
    "icd_path = '/opt/ml/input/data/ICDAR17_Korean/ufo/train.json'\n",
    "drv_path = '/opt/ml/input/data/Upstage/ufo/train.json'\n",
    "save_path = '/opt/ml/input/data/Upstage/ufo/new_train.json'\n",
    "\n",
    "with open(icd_path, 'r') as f:\n",
    "    icd = json.load(f)\n",
    "with open(drv_path, 'r') as f:\n",
    "    drv = json.load(f)"
   ]
  },
  {
   "cell_type": "markdown",
   "metadata": {},
   "source": [
    "### 최상위 레벨의 keys 비교"
   ]
  },
  {
   "cell_type": "code",
   "execution_count": 3,
   "metadata": {},
   "outputs": [
    {
     "name": "stdout",
     "output_type": "stream",
     "text": [
      "dict_keys(['images'])\n",
      "dict_keys(['images', 'version', 'tags'])\n"
     ]
    }
   ],
   "source": [
    "print(icd.keys())\n",
    "print(drv.keys())"
   ]
  },
  {
   "cell_type": "code",
   "execution_count": 4,
   "metadata": {},
   "outputs": [
    {
     "name": "stdout",
     "output_type": "stream",
     "text": [
      "221207\n",
      "[]\n"
     ]
    }
   ],
   "source": [
    "print(drv['version'])\n",
    "print(drv['tags'])"
   ]
  },
  {
   "cell_type": "code",
   "execution_count": 5,
   "metadata": {},
   "outputs": [],
   "source": [
    "## drv의 version, tags는 삭제하거나 무시해도 될듯\n",
    "## 원본에는 남겨두되, 통일된 포맷에서는 삭제"
   ]
  },
  {
   "cell_type": "markdown",
   "metadata": {},
   "source": [
    "### images 레벨의 keys 비교"
   ]
  },
  {
   "cell_type": "code",
   "execution_count": 6,
   "metadata": {},
   "outputs": [
    {
     "name": "stdout",
     "output_type": "stream",
     "text": [
      "{'jpg'}\n",
      "{'jpg', 'JPG', 'jpeg'}\n"
     ]
    }
   ],
   "source": [
    "ext_icd = set()\n",
    "ext_drv = set()\n",
    "\n",
    "for i in icd['images'].keys():\n",
    "    ext_icd.add(i.split('.')[-1])\n",
    "for i in drv['images'].keys():\n",
    "    ext_drv.add(i.split('.')[-1])\n",
    "    \n",
    "print(ext_icd)\n",
    "print(ext_drv)"
   ]
  },
  {
   "cell_type": "code",
   "execution_count": 7,
   "metadata": {},
   "outputs": [],
   "source": [
    "## images 레벨에서는 이미지 파일 이름만을 가짐\n",
    "## 조치사항 없음"
   ]
  },
  {
   "cell_type": "markdown",
   "metadata": {},
   "source": [
    "### 이미지 1장 레벨의 keys 비교"
   ]
  },
  {
   "cell_type": "code",
   "execution_count": 8,
   "metadata": {},
   "outputs": [
    {
     "name": "stdout",
     "output_type": "stream",
     "text": [
      "dict_keys(['img_h', 'img_w', 'words', 'tags', 'license_tag'])\n",
      "dict_keys(['paragraphs', 'words', 'chars', 'img_w', 'img_h', 'tags', 'relations', 'annotation_log', 'license_tag'])\n"
     ]
    }
   ],
   "source": [
    "print(icd['images']['img_4380.jpg'].keys())\n",
    "print(drv['images']['0F885DC0-3E65-4081-9DBB-CA96BB6FD4FC.JPG'].keys())"
   ]
  },
  {
   "cell_type": "code",
   "execution_count": 9,
   "metadata": {},
   "outputs": [
    {
     "name": "stdout",
     "output_type": "stream",
     "text": [
      "0\n",
      "0\n",
      "0\n",
      "((worker, NamHyeok), (timestamp, 2022-12-07), (tool_version, ), (source, None))    961\n",
      "Name: annotation_log, dtype: int64\n"
     ]
    }
   ],
   "source": [
    "allimg_drv = pd.DataFrame(drv['images']).T\n",
    "\n",
    "print(sum(allimg_drv['paragraphs'] != {}))\n",
    "print(sum(allimg_drv['chars'] != {}))\n",
    "print(sum(allimg_drv['relations'] != {}))\n",
    "print(allimg_drv['annotation_log'].apply(lambda x : tuple(x.items())).value_counts())\n"
   ]
  },
  {
   "cell_type": "code",
   "execution_count": 10,
   "metadata": {},
   "outputs": [],
   "source": [
    "## drv에서만 존재하는 paragraphs, chars, relations, annotation_log 레벨은 별다른 값을 갖지 않음\n",
    "## 원본에는 남겨두되, 통일된 포맷에서는 삭제"
   ]
  },
  {
   "cell_type": "code",
   "execution_count": 11,
   "metadata": {},
   "outputs": [],
   "source": [
    "# img_h, img_w, words, tags, license_tag 살펴보기 (공통레벨)\n",
    "\n",
    "com_icd = pd.DataFrame(icd['images']).T[['img_h', 'img_w', 'words', 'tags', 'license_tag']]\n",
    "com_drv = pd.DataFrame(drv['images']).T[['img_h', 'img_w', 'words', 'tags', 'license_tag']]"
   ]
  },
  {
   "cell_type": "code",
   "execution_count": 12,
   "metadata": {},
   "outputs": [
    {
     "name": "stdout",
     "output_type": "stream",
     "text": [
      "[2448 2268 3456 1836 2328 4128 2592 3096 3144 1440 1936 1080 3120 3024\n",
      " 1709 3984 1794 2340 2250 1755 1830 1452 2000 2067 3264 1742]\n",
      "[1836 2268 2592 3144 3096 2448 3888 4128 3456 3024 2328 1080 1440 2340\n",
      " 2277 2238 2391 3120 3372 1830 3264 1944 2992 2147]\n",
      "[1440 3265 700 1212 4032 3024 4618 1098 1880 9248 2268 6936 2158 3097 4608\n",
      " 3456 2243 540 720 1080 898 932 1920 2956 784 1205 455 487 364 531 960 810\n",
      " 360 769 351 1504 1696 2774 1772 1012 1172 1128 1280 2160 2220 1334]\n",
      "[1440 4898 618 991 3024 4032 3464 1752 1060 6936 2268 9248 2323 3456 4608\n",
      " 3988 960 1920 1080 3941 1439 677 770 1437 1280 682 810 540 480 720 590\n",
      " 409 1128 2261 2773 3840 2280 1242 2160 467 1334]\n"
     ]
    }
   ],
   "source": [
    "## 1. img_h, img_w\n",
    "print(com_icd['img_h'].unique())\n",
    "print(com_icd['img_w'].unique())\n",
    "print(com_drv['img_h'].unique())\n",
    "print(com_drv['img_w'].unique())\n",
    "\n",
    "## 특이사항 없음"
   ]
  },
  {
   "cell_type": "code",
   "execution_count": 13,
   "metadata": {},
   "outputs": [
    {
     "name": "stdout",
     "output_type": "stream",
     "text": [
      "Index(['points', 'transcription', 'language', 'illegibility', 'orientation',\n",
      "       'word_tags'],\n",
      "      dtype='object')\n",
      "Index(['transcription', 'points', 'orientation', 'language', 'tags',\n",
      "       'confidence', 'illegibility'],\n",
      "      dtype='object')\n"
     ]
    }
   ],
   "source": [
    "## 2. words\n",
    "ann_icd = pd.concat({k: pd.DataFrame(v) for k, v in com_icd['words'].items()}, axis=1).T\n",
    "ann_drv = pd.concat({k: pd.DataFrame(v) for k, v in com_drv['words'].items()}, axis=1).T\n",
    "\n",
    "print(ann_icd.columns)\n",
    "print(ann_drv.columns)"
   ]
  },
  {
   "cell_type": "code",
   "execution_count": 14,
   "metadata": {},
   "outputs": [
    {
     "name": "stdout",
     "output_type": "stream",
     "text": [
      "0\n",
      "0\n",
      "2273 2273\n"
     ]
    }
   ],
   "source": [
    "## 2-1. words _ word_tags, tags, confidence (차이)\n",
    "\n",
    "print(sum(ann_icd['word_tags'].notnull()))\n",
    "## ann_icd 중 word_tags는 모두 null (삭제 or 무시)\n",
    "\n",
    "print(sum(ann_drv['confidence'].notnull()))\n",
    "\n",
    "exc_reg_list = ann_drv['tags'][ann_drv['tags'].apply(lambda x : len(x)) != 0][ann_drv['tags'][ann_drv['tags'].apply(lambda x : len(x)) != 0].apply(lambda x : x[0]) == 'excluded-region'].index\n",
    "no_trans_list = ann_drv['transcription'][ann_drv['transcription'].isnull()].index\n",
    "for i in range(len(exc_reg_list)):\n",
    "    if exc_reg_list[i] != no_trans_list[i]:\n",
    "        print(i)\n",
    "print(len(exc_reg_list), len(no_trans_list))\n",
    "## ann_drv중 confidence는 모두 null (삭제 or 무시)\n",
    "## ann_drv 중 'tags'에 'excluded-region'는 'transcription'이 None인 것과 완벽히 일치\n",
    "## transcription이 None인 것을 지우면 'tags'-'excluded-region'은 신경쓰지 않아도 될듯"
   ]
  },
  {
   "cell_type": "code",
   "execution_count": 15,
   "metadata": {},
   "outputs": [
    {
     "name": "stdout",
     "output_type": "stream",
     "text": [
      "------------------------------\n",
      "<words _ points>\n",
      "\n",
      "0\n",
      "4    4078\n",
      "Name: points, dtype: int64\n",
      "-------------------------------------------------------------\n",
      "0\n",
      "22537\n",
      "4    22537\n",
      "Name: points, dtype: int64\n"
     ]
    }
   ],
   "source": [
    "## 2-2. words _ points, transcription, language, illegibility, orientation (공통)\n",
    "\n",
    "\n",
    "print('-'*30, '<words _ points>', sep='\\n', end='\\n\\n')\n",
    "## 2-2-1. words _ points (icd_4078, drv_23627)\n",
    "print(sum(ann_icd['points'].apply(lambda x : type(x)) != type([])))\n",
    "print(ann_icd['points'].apply(lambda x : len(x)).value_counts())\n",
    "## points는 모두 list 타입\n",
    "## 빈 값은 없으며, 모두 4개의 점으로 구성\n",
    "\n",
    "print(\"-------------------------------------------------------------\")\n",
    "print(sum(ann_drv['points'].apply(lambda x : type(x)) != type([])))\n",
    "print(sum(ann_drv['points'].apply(lambda x : len(x)).value_counts()))\n",
    "print(ann_drv['points'].apply(lambda x : len(x)).value_counts())\n",
    "## points는 모두 list 타입\n",
    "## 빈 값은 없으며, 점의 개수는 다양 (모두 짝수)"
   ]
  },
  {
   "cell_type": "code",
   "execution_count": 16,
   "metadata": {},
   "outputs": [
    {
     "name": "stdout",
     "output_type": "stream",
     "text": [
      "------------------------------\n",
      "<words _ transcription, illegibility>\n",
      "\n",
      "[False True]\n",
      "470 470\n",
      "[False True]\n",
      "[None '매일채움견과' 'ARK' '연' '세' '대' '학' '1885' 'EE' 'ion' 'an' 'SAVE ZONE'\n",
      " 'CHIANTI' '칙' 'One' '건물' '통행에' '이륜차' ' ' '' 'TWO' 'HAN' 'mation' '편의시설'\n",
      " '니는' '물처럼' '<UNK>' '한' '칼' '전문금융' '100억원' '이내' '8' 'MISSI' '매매' '임대'\n",
      " 'Carlsberg ' '치과' '서울바른후치과의원' '바른후치과' '박애별산부인과' '국민은행' 'KB' '지하' '헤'\n",
      " '망고 ' '스' '<UNK><UNK>' '사' '곱창' '공']\n"
     ]
    }
   ],
   "source": [
    "print('-'*30, '<words _ transcription, illegibility>', sep='\\n', end='\\n\\n')\n",
    "## 2-2-2. words _ transcription, illegibility\n",
    "print(ann_icd['illegibility'].unique())\n",
    "none_ann_list = ann_icd[ann_icd['transcription'] == '###'].index\n",
    "ille_ann_list = ann_icd[ann_icd['illegibility'] == True].index\n",
    "for i in range(len(none_ann_list)):\n",
    "    if none_ann_list[i] != ille_ann_list[i]:\n",
    "        print(i)\n",
    "print(len(none_ann_list), len(ille_ann_list))\n",
    "## illegibility는 True, False만 보유\n",
    "## transcription이 ###인 데이터는 illegibility가 True (transcription을 위주로 살펴도 될듯)\n",
    "print(ann_drv['illegibility'].unique())\n",
    "print(ann_drv[ann_drv['illegibility'] == True]['transcription'].unique())\n",
    "## illegibility는 True, False만 보유\n",
    "## illegibility가 True인 것은 transcription이 None인 것을 포함하지만, None이 아닌 것들은 거의 읽기 불가능한 수준 (무시가능)"
   ]
  },
  {
   "cell_type": "code",
   "execution_count": 17,
   "metadata": {},
   "outputs": [
    {
     "name": "stdout",
     "output_type": "stream",
     "text": [
      "------------------------------\n",
      "<words _ language>\n",
      "\n",
      "0\n",
      "ko    2946\n",
      "en    1132\n",
      "Name: language, dtype: int64\n",
      "5283\n",
      "(en,)               8509\n",
      "(ko,)               8067\n",
      "(others,)            350\n",
      "(en, others)         170\n",
      "(ko, en)             120\n",
      "(ko, others)          36\n",
      "(ko, en, others)       2\n",
      "Name: language, dtype: int64\n",
      "\n",
      "\n",
      "------------------------------\n",
      "<words _ orientation>\n",
      "\n",
      "Horizontal    4078\n",
      "Name: orientation, dtype: int64\n",
      "Horizontal    19855\n",
      "Vertical        368\n",
      "Irregular        41\n",
      "Name: orientation, dtype: int64\n"
     ]
    }
   ],
   "source": [
    "print('-'*30, '<words _ language>', sep='\\n', end='\\n\\n')\n",
    "## 2-2-3. words _ language\n",
    "print(sum(ann_icd['language'].apply(lambda x : len(x)) != 1))\n",
    "print(ann_icd['language'].apply(lambda x : x[0]).value_counts())\n",
    "## language는 ko 또는 en이며, 2개 이상의 값은 없음\n",
    "print(sum(ann_drv['language'].isnull()))\n",
    "print(ann_drv[ann_drv['language'].notnull()]['language'].apply(lambda x : tuple(x)).value_counts())\n",
    "## language는 null 또는 ko, en, others의 조합 (2개 이상 값 존재)\n",
    "\n",
    "\n",
    "print('\\n', '-'*30, '<words _ orientation>', sep='\\n', end='\\n\\n')\n",
    "## 2-2-4. words _ orientation\n",
    "print(ann_icd['orientation'].value_counts())\n",
    "## 모든 글자방향이 Horizontal\n",
    "print(ann_drv['orientation'].value_counts())\n",
    "## 글자방향은 Horizontal, Vertical, Irregular이 존재"
   ]
  },
  {
   "cell_type": "code",
   "execution_count": 18,
   "metadata": {},
   "outputs": [
    {
     "name": "stdout",
     "output_type": "stream",
     "text": [
      "0\n",
      "()                         881\n",
      "(handwriting,)              25\n",
      "(outfocus,)                 24\n",
      "(document,)                 14\n",
      "(noisy,)                    13\n",
      "(noisy, outfocus)            2\n",
      "(handwriting, note)          1\n",
      "(handwriting, outfocus)      1\n",
      "Name: tags, dtype: int64\n",
      "0.08324661810613944\n",
      "\n",
      " ------------------------------\n",
      "((usability, True), (public, True), (commercial, True), (type, CC-BY-SA), (holder, None))    536\n",
      "Name: license_tag, dtype: int64\n",
      "((usability, True), (public, False), (commercial, True), (type, None), (holder, Upstage))    961\n",
      "Name: license_tag, dtype: int64\n"
     ]
    }
   ],
   "source": [
    "## 3. tags, license_tag\n",
    "\n",
    "print(sum(com_icd['tags'].notnull()))\n",
    "print(com_drv['tags'].apply(lambda x : tuple(x)).value_counts())\n",
    "print(sum(com_drv['tags'].apply(lambda x : len(x)) != 0) / len(com_drv))\n",
    "## com_icd는 null만을 소유\n",
    "## com_drv의 8%가 tags를 소유, 학습하는건 크게 의미가 없을듯\n",
    "## 오류분석 시 활용될 수도 있을듯\n",
    "\n",
    "print('\\n', '-'*30)\n",
    "print(com_icd['license_tag'].apply(lambda x : tuple(x.items())).value_counts())\n",
    "print(com_drv['license_tag'].apply(lambda x : tuple(x.items())).value_counts())\n",
    "## license_tag는 별다른 내용을 갖지 않음 (무시 가능할듯)"
   ]
  },
  {
   "cell_type": "code",
   "execution_count": 19,
   "metadata": {},
   "outputs": [],
   "source": [
    "# 최소구조\n",
    "\n",
    "# images\n",
    "### filename\n",
    "##### img_h\n",
    "##### img_w\n",
    "##### words\n",
    "####### points\n",
    "####### transcription\n",
    "####### language\n",
    "####### illegibility\n",
    "####### orientation\n",
    "##### tags\n",
    "##### license_tag"
   ]
  },
  {
   "attachments": {},
   "cell_type": "markdown",
   "metadata": {},
   "source": [
    "### words가 없는 images 제거"
   ]
  },
  {
   "cell_type": "code",
   "execution_count": 20,
   "metadata": {},
   "outputs": [
    {
     "data": {
      "text/plain": [
       "Series([], Name: words, dtype: object)"
      ]
     },
     "execution_count": 20,
     "metadata": {},
     "output_type": "execute_result"
    }
   ],
   "source": [
    "com_drv['words'][com_drv['words'].apply(lambda x : x.values()).apply(lambda x : len(x)) == 0]"
   ]
  },
  {
   "cell_type": "markdown",
   "metadata": {},
   "source": [
    "### point가 4개 이상인 polygon 확인"
   ]
  },
  {
   "cell_type": "code",
   "execution_count": 21,
   "metadata": {},
   "outputs": [],
   "source": [
    "for i in drv['images'].keys():\n",
    "    for key in drv['images'][i]['words'].keys():\n",
    "        if len(drv['images'][i]['words'][key]['points']) != 4:\n",
    "            print(len(drv['images'][i]['words'][key]['points']))"
   ]
  },
  {
   "cell_type": "code",
   "execution_count": 22,
   "metadata": {},
   "outputs": [
    {
     "data": {
      "text/html": [
       "<div>\n",
       "<style scoped>\n",
       "    .dataframe tbody tr th:only-of-type {\n",
       "        vertical-align: middle;\n",
       "    }\n",
       "\n",
       "    .dataframe tbody tr th {\n",
       "        vertical-align: top;\n",
       "    }\n",
       "\n",
       "    .dataframe thead th {\n",
       "        text-align: right;\n",
       "    }\n",
       "</style>\n",
       "<table border=\"1\" class=\"dataframe\">\n",
       "  <thead>\n",
       "    <tr style=\"text-align: right;\">\n",
       "      <th></th>\n",
       "      <th>img_h</th>\n",
       "      <th>img_w</th>\n",
       "      <th>words</th>\n",
       "      <th>tags</th>\n",
       "      <th>license_tag</th>\n",
       "    </tr>\n",
       "  </thead>\n",
       "  <tbody>\n",
       "    <tr>\n",
       "      <th>0F885DC0-3E65-4081-9DBB-CA96BB6FD4FC.JPG</th>\n",
       "      <td>1440</td>\n",
       "      <td>1440</td>\n",
       "      <td>{'0001': {'transcription': 'BUSKERS', 'points'...</td>\n",
       "      <td>[]</td>\n",
       "      <td>{'usability': True, 'public': False, 'commerci...</td>\n",
       "    </tr>\n",
       "    <tr>\n",
       "      <th>0N8A5655.jpg</th>\n",
       "      <td>3265</td>\n",
       "      <td>4898</td>\n",
       "      <td>{'0001': {'transcription': '이로운', 'points': [[...</td>\n",
       "      <td>[]</td>\n",
       "      <td>{'usability': True, 'public': False, 'commerci...</td>\n",
       "    </tr>\n",
       "    <tr>\n",
       "      <th>0N8A5660.jpg</th>\n",
       "      <td>3265</td>\n",
       "      <td>4898</td>\n",
       "      <td>{'0001': {'transcription': '이로운', 'points': [[...</td>\n",
       "      <td>[]</td>\n",
       "      <td>{'usability': True, 'public': False, 'commerci...</td>\n",
       "    </tr>\n",
       "    <tr>\n",
       "      <th>01.jpg</th>\n",
       "      <td>700</td>\n",
       "      <td>618</td>\n",
       "      <td>{'0001': {'transcription': '단순하지만', 'points': ...</td>\n",
       "      <td>[handwriting]</td>\n",
       "      <td>{'usability': True, 'public': False, 'commerci...</td>\n",
       "    </tr>\n",
       "    <tr>\n",
       "      <th>02.jpg</th>\n",
       "      <td>1212</td>\n",
       "      <td>991</td>\n",
       "      <td>{'0002': {'transcription': '2F', 'points': [[5...</td>\n",
       "      <td>[]</td>\n",
       "      <td>{'usability': True, 'public': False, 'commerci...</td>\n",
       "    </tr>\n",
       "    <tr>\n",
       "      <th>...</th>\n",
       "      <td>...</td>\n",
       "      <td>...</td>\n",
       "      <td>...</td>\n",
       "      <td>...</td>\n",
       "      <td>...</td>\n",
       "    </tr>\n",
       "    <tr>\n",
       "      <th>1632655308620-22.jpg</th>\n",
       "      <td>960</td>\n",
       "      <td>467</td>\n",
       "      <td>{'0001': {'transcription': None, 'points': [[1...</td>\n",
       "      <td>[]</td>\n",
       "      <td>{'usability': True, 'public': False, 'commerci...</td>\n",
       "    </tr>\n",
       "    <tr>\n",
       "      <th>1632655308620-25.jpg</th>\n",
       "      <td>2220</td>\n",
       "      <td>1080</td>\n",
       "      <td>{'0001': {'transcription': '읽으면', 'points': [[...</td>\n",
       "      <td>[]</td>\n",
       "      <td>{'usability': True, 'public': False, 'commerci...</td>\n",
       "    </tr>\n",
       "    <tr>\n",
       "      <th>1632655330045-21.jpg</th>\n",
       "      <td>1334</td>\n",
       "      <td>1334</td>\n",
       "      <td>{'0001': {'transcription': '압구정공주떡', 'points':...</td>\n",
       "      <td>[]</td>\n",
       "      <td>{'usability': True, 'public': False, 'commerci...</td>\n",
       "    </tr>\n",
       "    <tr>\n",
       "      <th>1632655330045-23.jpg</th>\n",
       "      <td>960</td>\n",
       "      <td>467</td>\n",
       "      <td>{'0001': {'transcription': '페리카나', 'points': [...</td>\n",
       "      <td>[]</td>\n",
       "      <td>{'usability': True, 'public': False, 'commerci...</td>\n",
       "    </tr>\n",
       "    <tr>\n",
       "      <th>1632655330045-24.jpg</th>\n",
       "      <td>960</td>\n",
       "      <td>467</td>\n",
       "      <td>{'0001': {'transcription': '욕망뉴트리밀', 'points':...</td>\n",
       "      <td>[]</td>\n",
       "      <td>{'usability': True, 'public': False, 'commerci...</td>\n",
       "    </tr>\n",
       "  </tbody>\n",
       "</table>\n",
       "<p>961 rows × 5 columns</p>\n",
       "</div>"
      ],
      "text/plain": [
       "                                         img_h img_w  \\\n",
       "0F885DC0-3E65-4081-9DBB-CA96BB6FD4FC.JPG  1440  1440   \n",
       "0N8A5655.jpg                              3265  4898   \n",
       "0N8A5660.jpg                              3265  4898   \n",
       "01.jpg                                     700   618   \n",
       "02.jpg                                    1212   991   \n",
       "...                                        ...   ...   \n",
       "1632655308620-22.jpg                       960   467   \n",
       "1632655308620-25.jpg                      2220  1080   \n",
       "1632655330045-21.jpg                      1334  1334   \n",
       "1632655330045-23.jpg                       960   467   \n",
       "1632655330045-24.jpg                       960   467   \n",
       "\n",
       "                                                                                      words  \\\n",
       "0F885DC0-3E65-4081-9DBB-CA96BB6FD4FC.JPG  {'0001': {'transcription': 'BUSKERS', 'points'...   \n",
       "0N8A5655.jpg                              {'0001': {'transcription': '이로운', 'points': [[...   \n",
       "0N8A5660.jpg                              {'0001': {'transcription': '이로운', 'points': [[...   \n",
       "01.jpg                                    {'0001': {'transcription': '단순하지만', 'points': ...   \n",
       "02.jpg                                    {'0002': {'transcription': '2F', 'points': [[5...   \n",
       "...                                                                                     ...   \n",
       "1632655308620-22.jpg                      {'0001': {'transcription': None, 'points': [[1...   \n",
       "1632655308620-25.jpg                      {'0001': {'transcription': '읽으면', 'points': [[...   \n",
       "1632655330045-21.jpg                      {'0001': {'transcription': '압구정공주떡', 'points':...   \n",
       "1632655330045-23.jpg                      {'0001': {'transcription': '페리카나', 'points': [...   \n",
       "1632655330045-24.jpg                      {'0001': {'transcription': '욕망뉴트리밀', 'points':...   \n",
       "\n",
       "                                                   tags  \\\n",
       "0F885DC0-3E65-4081-9DBB-CA96BB6FD4FC.JPG             []   \n",
       "0N8A5655.jpg                                         []   \n",
       "0N8A5660.jpg                                         []   \n",
       "01.jpg                                    [handwriting]   \n",
       "02.jpg                                               []   \n",
       "...                                                 ...   \n",
       "1632655308620-22.jpg                                 []   \n",
       "1632655308620-25.jpg                                 []   \n",
       "1632655330045-21.jpg                                 []   \n",
       "1632655330045-23.jpg                                 []   \n",
       "1632655330045-24.jpg                                 []   \n",
       "\n",
       "                                                                                license_tag  \n",
       "0F885DC0-3E65-4081-9DBB-CA96BB6FD4FC.JPG  {'usability': True, 'public': False, 'commerci...  \n",
       "0N8A5655.jpg                              {'usability': True, 'public': False, 'commerci...  \n",
       "0N8A5660.jpg                              {'usability': True, 'public': False, 'commerci...  \n",
       "01.jpg                                    {'usability': True, 'public': False, 'commerci...  \n",
       "02.jpg                                    {'usability': True, 'public': False, 'commerci...  \n",
       "...                                                                                     ...  \n",
       "1632655308620-22.jpg                      {'usability': True, 'public': False, 'commerci...  \n",
       "1632655308620-25.jpg                      {'usability': True, 'public': False, 'commerci...  \n",
       "1632655330045-21.jpg                      {'usability': True, 'public': False, 'commerci...  \n",
       "1632655330045-23.jpg                      {'usability': True, 'public': False, 'commerci...  \n",
       "1632655330045-24.jpg                      {'usability': True, 'public': False, 'commerci...  \n",
       "\n",
       "[961 rows x 5 columns]"
      ]
     },
     "execution_count": 22,
     "metadata": {},
     "output_type": "execute_result"
    }
   ],
   "source": [
    "# words가 없는 이미지를 삭제한 dict 생성\n",
    "import copy\n",
    "temp_drv = copy.deepcopy(drv)\n",
    "\n",
    "for i in drv['images'].keys():\n",
    "    for key in drv['images'][i]['words'].keys():\n",
    "        if len(drv['images'][i]['words'][key]['points']) != 4:\n",
    "            # print(len(drv['images'][i]['words'][key]['points']))\n",
    "            del temp_drv['images'][i]['words'][key]        \n",
    "\n",
    "result_drv = copy.deepcopy(temp_drv)\n",
    "\n",
    "for i in temp_drv['images'].keys():\n",
    "    if len(temp_drv['images'][i]['words'].keys()) == 0:\n",
    "        del result_drv['images'][i]\n",
    "\n",
    "\n",
    "# for i in com_drv['words'][com_drv['words'].apply(lambda x : x.values()).apply(lambda x : len(x)) == 0].keys():\n",
    "#     del new_drv['images'][i]\n",
    "    \n",
    "test = pd.DataFrame(result_drv['images']).T[['img_h', 'img_w', 'words', 'tags', 'license_tag']]\n",
    "test"
   ]
  },
  {
   "cell_type": "markdown",
   "metadata": {},
   "source": [
    "### 포인트 4개인 박스만 남았는지 확인"
   ]
  },
  {
   "cell_type": "code",
   "execution_count": 23,
   "metadata": {},
   "outputs": [],
   "source": [
    "# 출력되는 값이 없어야 함\n",
    "for i in result_drv['images'].keys():\n",
    "    for key in result_drv['images'][i]['words'].keys():\n",
    "        if len(result_drv['images'][i]['words'][key]['points']) != 4:\n",
    "            print(len(result_drv['images'][i]['words'][key]['points']))"
   ]
  },
  {
   "attachments": {},
   "cell_type": "markdown",
   "metadata": {},
   "source": [
    "### word가 없는 이미지 제거 확인"
   ]
  },
  {
   "cell_type": "code",
   "execution_count": 24,
   "metadata": {},
   "outputs": [],
   "source": [
    "# 출력되는 값이 없어야 함\n",
    "for i in result_drv['images'].keys():\n",
    "    if len(result_drv['images'][i]['words'].keys()) == 0:\n",
    "        print(i)"
   ]
  },
  {
   "cell_type": "code",
   "execution_count": 25,
   "metadata": {},
   "outputs": [],
   "source": [
    "# 현재 경로에 'new_train.json'으로 저장\n",
    "with open(save_path, 'w') as f:\n",
    "    json.dump(result_drv, f, indent=2)"
   ]
  }
 ],
 "metadata": {
  "kernelspec": {
   "display_name": "Python 3 (ipykernel)",
   "language": "python",
   "name": "python3"
  },
  "language_info": {
   "codemirror_mode": {
    "name": "ipython",
    "version": 3
   },
   "file_extension": ".py",
   "mimetype": "text/x-python",
   "name": "python",
   "nbconvert_exporter": "python",
   "pygments_lexer": "ipython3",
   "version": "3.8.5"
  },
  "orig_nbformat": 4,
  "vscode": {
   "interpreter": {
    "hash": "d4d1e4263499bec80672ea0156c357c1ee493ec2b1c70f0acce89fc37c4a6abe"
   }
  }
 },
 "nbformat": 4,
 "nbformat_minor": 2
}
