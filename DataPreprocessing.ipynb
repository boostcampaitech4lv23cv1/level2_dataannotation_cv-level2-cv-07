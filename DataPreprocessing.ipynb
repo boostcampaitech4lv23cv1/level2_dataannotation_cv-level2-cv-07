{
 "cells": [
  {
   "cell_type": "code",
   "execution_count": null,
   "metadata": {},
   "outputs": [],
   "source": [
    "'''\n",
    "original code source : https://boostcampaitech.slack.com/archives/C049SV5AXK2/p1670807640700879 (Thanks to T4047 김종해)\n",
    "'''"
   ]
  },
  {
   "cell_type": "code",
   "execution_count": null,
   "metadata": {},
   "outputs": [],
   "source": [
    "import json\n",
    "import pandas as pd"
   ]
  },
  {
   "cell_type": "code",
   "execution_count": null,
   "metadata": {},
   "outputs": [],
   "source": [
    "icd_path = '/opt/ml/input/data/ICDAR17_Korean/ufo/train.json'\n",
    "drv_path = '/opt/ml/input/data/Upstage/ufo/train.json'\n",
    "save_path = '/opt/ml/input/data/Upstage/ufo/new_train.json'\n",
    "\n",
    "with open(icd_path, 'r') as f:\n",
    "    icd = json.load(f)\n",
    "with open(drv_path, 'r') as f:\n",
    "    drv = json.load(f)"
   ]
  },
  {
   "cell_type": "markdown",
   "metadata": {},
   "source": [
    "### 최상위 레벨의 keys 비교"
   ]
  },
  {
   "cell_type": "code",
   "execution_count": null,
   "metadata": {},
   "outputs": [],
   "source": [
    "print(icd.keys())\n",
    "print(drv.keys())"
   ]
  },
  {
   "cell_type": "code",
   "execution_count": null,
   "metadata": {},
   "outputs": [],
   "source": [
    "print(drv['version'])\n",
    "print(drv['tags'])"
   ]
  },
  {
   "cell_type": "code",
   "execution_count": null,
   "metadata": {},
   "outputs": [],
   "source": [
    "ext_icd = set()\n",
    "ext_drv = set()\n",
    "\n",
    "for i in icd['images'].keys():\n",
    "    ext_icd.add(i.split('.')[-1])\n",
    "for i in drv['images'].keys():\n",
    "    ext_drv.add(i.split('.')[-1])\n",
    "    \n",
    "print(ext_icd)\n",
    "print(ext_drv)"
   ]
  },
  {
   "cell_type": "markdown",
   "metadata": {},
   "source": [
    "### 이미지 1장 레벨의 keys 비교"
   ]
  },
  {
   "cell_type": "code",
   "execution_count": null,
   "metadata": {},
   "outputs": [],
   "source": [
    "print(icd['images']['img_4380.jpg'].keys())\n",
    "print(drv['images']['0F885DC0-3E65-4081-9DBB-CA96BB6FD4FC.JPG'].keys())"
   ]
  },
  {
   "cell_type": "code",
   "execution_count": null,
   "metadata": {},
   "outputs": [],
   "source": [
    "allimg_drv = pd.DataFrame(drv['images']).T\n",
    "\n",
    "print(sum(allimg_drv['paragraphs'] != {}))\n",
    "print(sum(allimg_drv['chars'] != {}))\n",
    "print(sum(allimg_drv['relations'] != {}))\n",
    "print(allimg_drv['annotation_log'].apply(lambda x : tuple(x.items())).value_counts())\n"
   ]
  },
  {
   "cell_type": "code",
   "execution_count": null,
   "metadata": {},
   "outputs": [],
   "source": [
    "# img_h, img_w, words, tags, license_tag 살펴보기 (공통레벨)\n",
    "\n",
    "com_icd = pd.DataFrame(icd['images']).T[['img_h', 'img_w', 'words', 'tags', 'license_tag']]\n",
    "com_drv = pd.DataFrame(drv['images']).T[['img_h', 'img_w', 'words', 'tags', 'license_tag']]"
   ]
  },
  {
   "cell_type": "code",
   "execution_count": null,
   "metadata": {},
   "outputs": [],
   "source": [
    "## 1. img_h, img_w\n",
    "print(com_icd['img_h'].unique())\n",
    "print(com_icd['img_w'].unique())\n",
    "print(com_drv['img_h'].unique())\n",
    "print(com_drv['img_w'].unique())\n",
    "\n",
    "## 특이사항 없음"
   ]
  },
  {
   "cell_type": "code",
   "execution_count": null,
   "metadata": {},
   "outputs": [],
   "source": [
    "## 2. words\n",
    "ann_icd = pd.concat({k: pd.DataFrame(v) for k, v in com_icd['words'].items()}, axis=1).T\n",
    "ann_drv = pd.concat({k: pd.DataFrame(v) for k, v in com_drv['words'].items()}, axis=1).T\n",
    "\n",
    "print(ann_icd.columns)\n",
    "print(ann_drv.columns)"
   ]
  },
  {
   "cell_type": "code",
   "execution_count": null,
   "metadata": {},
   "outputs": [],
   "source": [
    "## 2-1. words _ word_tags, tags, confidence (차이)\n",
    "\n",
    "print(sum(ann_icd['word_tags'].notnull()))\n",
    "## ann_icd 중 word_tags는 모두 null (삭제 or 무시)\n",
    "\n",
    "print(sum(ann_drv['confidence'].notnull()))\n",
    "\n",
    "exc_reg_list = ann_drv['tags'][ann_drv['tags'].apply(lambda x : len(x)) != 0][ann_drv['tags'][ann_drv['tags'].apply(lambda x : len(x)) != 0].apply(lambda x : x[0]) == 'excluded-region'].index\n",
    "no_trans_list = ann_drv['transcription'][ann_drv['transcription'].isnull()].index\n",
    "for i in range(len(exc_reg_list)):\n",
    "    if exc_reg_list[i] != no_trans_list[i]:\n",
    "        print(i)\n",
    "print(len(exc_reg_list), len(no_trans_list))\n",
    "## ann_drv중 confidence는 모두 null (삭제 or 무시)\n",
    "## ann_drv 중 'tags'에 'excluded-region'는 'transcription'이 None인 것과 완벽히 일치\n",
    "## transcription이 None인 것을 지우면 'tags'-'excluded-region'은 신경쓰지 않아도 될듯"
   ]
  },
  {
   "cell_type": "code",
   "execution_count": null,
   "metadata": {},
   "outputs": [],
   "source": [
    "## 2-2. words _ points, transcription, language, illegibility, orientation (공통)\n",
    "\n",
    "\n",
    "print('-'*30, '<words _ points>', sep='\\n', end='\\n\\n')\n",
    "## 2-2-1. words _ points (icd_4078, drv_23627)\n",
    "print(sum(ann_icd['points'].apply(lambda x : type(x)) != type([])))\n",
    "print(ann_icd['points'].apply(lambda x : len(x)).value_counts())\n",
    "## points는 모두 list 타입\n",
    "## 빈 값은 없으며, 모두 4개의 점으로 구성\n",
    "\n",
    "print(\"-------------------------------------------------------------\")\n",
    "print(sum(ann_drv['points'].apply(lambda x : type(x)) != type([])))\n",
    "print(sum(ann_drv['points'].apply(lambda x : len(x)).value_counts()))\n",
    "print(ann_drv['points'].apply(lambda x : len(x)).value_counts())\n",
    "## points는 모두 list 타입\n",
    "## 빈 값은 없으며, 점의 개수는 다양 (모두 짝수)"
   ]
  },
  {
   "cell_type": "code",
   "execution_count": null,
   "metadata": {},
   "outputs": [],
   "source": [
    "print('-'*30, '<words _ transcription, illegibility>', sep='\\n', end='\\n\\n')\n",
    "## 2-2-2. words _ transcription, illegibility\n",
    "print(ann_icd['illegibility'].unique())\n",
    "none_ann_list = ann_icd[ann_icd['transcription'] == '###'].index\n",
    "ille_ann_list = ann_icd[ann_icd['illegibility'] == True].index\n",
    "for i in range(len(none_ann_list)):\n",
    "    if none_ann_list[i] != ille_ann_list[i]:\n",
    "        print(i)\n",
    "print(len(none_ann_list), len(ille_ann_list))\n",
    "## illegibility는 True, False만 보유\n",
    "## transcription이 ###인 데이터는 illegibility가 True (transcription을 위주로 살펴도 될듯)\n",
    "print(ann_drv['illegibility'].unique())\n",
    "print(ann_drv[ann_drv['illegibility'] == True]['transcription'].unique())\n",
    "## illegibility는 True, False만 보유\n",
    "## illegibility가 True인 것은 transcription이 None인 것을 포함하지만, None이 아닌 것들은 거의 읽기 불가능한 수준 (무시가능)"
   ]
  },
  {
   "cell_type": "code",
   "execution_count": null,
   "metadata": {},
   "outputs": [],
   "source": [
    "print('-'*30, '<words _ language>', sep='\\n', end='\\n\\n')\n",
    "## 2-2-3. words _ language\n",
    "print(sum(ann_icd['language'].apply(lambda x : len(x)) != 1))\n",
    "print(ann_icd['language'].apply(lambda x : x[0]).value_counts())\n",
    "## language는 ko 또는 en이며, 2개 이상의 값은 없음\n",
    "print(sum(ann_drv['language'].isnull()))\n",
    "print(ann_drv[ann_drv['language'].notnull()]['language'].apply(lambda x : tuple(x)).value_counts())\n",
    "## language는 null 또는 ko, en, others의 조합 (2개 이상 값 존재)\n",
    "\n",
    "\n",
    "print('\\n', '-'*30, '<words _ orientation>', sep='\\n', end='\\n\\n')\n",
    "## 2-2-4. words _ orientation\n",
    "print(ann_icd['orientation'].value_counts())\n",
    "## 모든 글자방향이 Horizontal\n",
    "print(ann_drv['orientation'].value_counts())\n",
    "## 글자방향은 Horizontal, Vertical, Irregular이 존재"
   ]
  },
  {
   "cell_type": "code",
   "execution_count": null,
   "metadata": {},
   "outputs": [],
   "source": [
    "## 3. tags, license_tag\n",
    "\n",
    "print(sum(com_icd['tags'].notnull()))\n",
    "print(com_drv['tags'].apply(lambda x : tuple(x)).value_counts())\n",
    "print(sum(com_drv['tags'].apply(lambda x : len(x)) != 0) / len(com_drv))\n",
    "## com_icd는 null만을 소유\n",
    "## com_drv의 8%가 tags를 소유, 학습하는건 크게 의미가 없을듯\n",
    "## 오류분석 시 활용될 수도 있을듯\n",
    "\n",
    "print('\\n', '-'*30)\n",
    "print(com_icd['license_tag'].apply(lambda x : tuple(x.items())).value_counts())\n",
    "print(com_drv['license_tag'].apply(lambda x : tuple(x.items())).value_counts())\n",
    "## license_tag는 별다른 내용을 갖지 않음 (무시 가능할듯)"
   ]
  },
  {
   "cell_type": "code",
   "execution_count": null,
   "metadata": {},
   "outputs": [],
   "source": [
    "# 최소구조\n",
    "\n",
    "# images\n",
    "### filename\n",
    "##### img_h\n",
    "##### img_w\n",
    "##### words\n",
    "####### points\n",
    "####### transcription\n",
    "####### language\n",
    "####### illegibility\n",
    "####### orientation\n",
    "##### tags\n",
    "##### license_tag"
   ]
  },
  {
   "attachments": {},
   "cell_type": "markdown",
   "metadata": {},
   "source": [
    "### words가 없는 images 제거"
   ]
  },
  {
   "cell_type": "code",
   "execution_count": null,
   "metadata": {},
   "outputs": [],
   "source": [
    "com_drv['words'][com_drv['words'].apply(lambda x : x.values()).apply(lambda x : len(x)) == 0]"
   ]
  },
  {
   "cell_type": "markdown",
   "metadata": {},
   "source": [
    "### point가 4개 이상인 polygon 확인"
   ]
  },
  {
   "cell_type": "code",
   "execution_count": null,
   "metadata": {},
   "outputs": [],
   "source": [
    "for i in drv['images'].keys():\n",
    "    for key in drv['images'][i]['words'].keys():\n",
    "        if len(drv['images'][i]['words'][key]['points']) != 4:\n",
    "            print(len(drv['images'][i]['words'][key]['points']))"
   ]
  },
  {
   "cell_type": "code",
   "execution_count": null,
   "metadata": {},
   "outputs": [],
   "source": [
    "# words가 없는 이미지를 삭제한 dict 생성\n",
    "import copy\n",
    "temp_drv = copy.deepcopy(drv)\n",
    "\n",
    "for i in drv['images'].keys():\n",
    "    for key in drv['images'][i]['words'].keys():\n",
    "        if len(drv['images'][i]['words'][key]['points']) != 4:\n",
    "            # print(len(drv['images'][i]['words'][key]['points']))\n",
    "            del temp_drv['images'][i]['words'][key]        \n",
    "\n",
    "result_drv = copy.deepcopy(temp_drv)\n",
    "\n",
    "for i in temp_drv['images'].keys():\n",
    "    if len(temp_drv['images'][i]['words'].keys()) == 0:\n",
    "        del result_drv['images'][i]\n",
    "\n",
    "\n",
    "# for i in com_drv['words'][com_drv['words'].apply(lambda x : x.values()).apply(lambda x : len(x)) == 0].keys():\n",
    "#     del new_drv['images'][i]\n",
    "    \n",
    "test = pd.DataFrame(result_drv['images']).T[['img_h', 'img_w', 'words', 'tags', 'license_tag']]\n",
    "test"
   ]
  },
  {
   "cell_type": "markdown",
   "metadata": {},
   "source": [
    "### 포인트 4개인 박스만 남았는지 확인"
   ]
  },
  {
   "cell_type": "code",
   "execution_count": null,
   "metadata": {},
   "outputs": [],
   "source": [
    "# 출력되는 값이 없어야 함\n",
    "for i in result_drv['images'].keys():\n",
    "    for key in result_drv['images'][i]['words'].keys():\n",
    "        if len(result_drv['images'][i]['words'][key]['points']) != 4:\n",
    "            print(len(result_drv['images'][i]['words'][key]['points']))"
   ]
  },
  {
   "attachments": {},
   "cell_type": "markdown",
   "metadata": {},
   "source": [
    "### word가 없는 이미지 제거 확인"
   ]
  },
  {
   "cell_type": "code",
   "execution_count": null,
   "metadata": {},
   "outputs": [],
   "source": [
    "# 출력되는 값이 없어야 함\n",
    "for i in result_drv['images'].keys():\n",
    "    if len(result_drv['images'][i]['words'].keys()) == 0:\n",
    "        print(i)"
   ]
  },
  {
   "cell_type": "code",
   "execution_count": null,
   "metadata": {},
   "outputs": [],
   "source": [
    "# 현재 경로에 'new_train.json'으로 저장\n",
    "with open(save_path, 'w') as f:\n",
    "    json.dump(result_drv, f, indent=2)"
   ]
  }
 ],
 "metadata": {
  "kernelspec": {
   "display_name": "Python 3 (ipykernel)",
   "language": "python",
   "name": "python3"
  },
  "language_info": {
   "codemirror_mode": {
    "name": "ipython",
    "version": 3
   },
   "file_extension": ".py",
   "mimetype": "text/x-python",
   "name": "python",
   "nbconvert_exporter": "python",
   "pygments_lexer": "ipython3",
   "version": "3.8.5 (default, Sep  4 2020, 07:30:14) \n[GCC 7.3.0]"
  },
  "orig_nbformat": 4,
  "vscode": {
   "interpreter": {
    "hash": "d4d1e4263499bec80672ea0156c357c1ee493ec2b1c70f0acce89fc37c4a6abe"
   }
  }
 },
 "nbformat": 4,
 "nbformat_minor": 2
}
