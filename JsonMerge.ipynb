{
 "cells": [
  {
   "cell_type": "code",
   "execution_count": 1,
   "metadata": {},
   "outputs": [],
   "source": [
    "import json\n",
    "import numpy as np\n",
    "from sklearn.model_selection import StratifiedGroupKFold\n",
    "from collections import Counter\n",
    "import pandas as pd"
   ]
  },
  {
   "cell_type": "code",
   "execution_count": 16,
   "metadata": {},
   "outputs": [],
   "source": [
    "annotation_ICDAR17 = '/opt/ml/input/data/ICDAR17_Korean/ufo/train.json'\n",
    "annotation_Upstage = '/opt/ml/input/data/Upstage/ufo/train.json'\n",
    "\n",
    "with open(annotation_ICDAR17) as f1: \n",
    "    data_ICDAR_17 = json.load(f1)\n",
    "    \n",
    "with open(annotation_Upstage) as f2:     \n",
    "    data_Upstage = json.load(f2)"
   ]
  },
  {
   "cell_type": "code",
   "execution_count": 22,
   "metadata": {},
   "outputs": [],
   "source": [
    "data = dict()\n",
    "data['images'] = data_ICDAR_17['images']\n",
    "data['images'].update(data_Upstage['images'])\n",
    "\n",
    "with open(f'/opt/ml/input/data/total/ufo/train.json', 'w') as make_file:\n",
    "    json.dump(data, make_file, indent='\\t')"
   ]
  }
 ],
 "metadata": {
  "kernelspec": {
   "display_name": "base",
   "language": "python",
   "name": "python3"
  },
  "language_info": {
   "codemirror_mode": {
    "name": "ipython",
    "version": 3
   },
   "file_extension": ".py",
   "mimetype": "text/x-python",
   "name": "python",
   "nbconvert_exporter": "python",
   "pygments_lexer": "ipython3",
   "version": "3.8.5"
  },
  "orig_nbformat": 4,
  "vscode": {
   "interpreter": {
    "hash": "d4d1e4263499bec80672ea0156c357c1ee493ec2b1c70f0acce89fc37c4a6abe"
   }
  }
 },
 "nbformat": 4,
 "nbformat_minor": 2
}
