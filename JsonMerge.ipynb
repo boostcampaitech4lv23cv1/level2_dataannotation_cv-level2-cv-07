{
 "cells": [
  {
   "cell_type": "code",
   "execution_count": 9,
   "metadata": {},
   "outputs": [],
   "source": [
    "import json\n",
    "import numpy as np\n",
    "from sklearn.model_selection import train_test_split\n",
    "from collections import Counter\n",
    "import pandas as pd\n",
    "import shutil\n",
    "import os\n",
    "import random"
   ]
  },
  {
   "cell_type": "code",
   "execution_count": 10,
   "metadata": {},
   "outputs": [],
   "source": [
    "annotation_ICDAR17 = '/opt/ml/input/data/ICDAR17_Korean/ufo/train.json'\n",
    "annotation_Upstage = '/opt/ml/input/data/Upstage/ufo/train.json'\n",
    "\n",
    "with open(annotation_ICDAR17) as f1: \n",
    "    data_ICDAR_17 = json.load(f1)\n",
    "    \n",
    "with open(annotation_Upstage) as f2:     \n",
    "    data_Upstage = json.load(f2)"
   ]
  },
  {
   "cell_type": "code",
   "execution_count": 11,
   "metadata": {},
   "outputs": [],
   "source": [
    "data = dict()\n",
    "data['images'] = data_ICDAR_17['images']\n",
    "data['images'].update(data_Upstage['images'])\n",
    "\n",
    "with open(f'/opt/ml/input/data/total/ufo/train.json', 'w') as make_file:\n",
    "    json.dump(data, make_file, indent='\\t')"
   ]
  },
  {
   "cell_type": "code",
   "execution_count": 14,
   "metadata": {},
   "outputs": [],
   "source": [
    "def split_dataset(input_json, output_dir, val_ratio, random_seed=1):\n",
    "    random.seed(random_seed)\n",
    "\n",
    "    with open(input_json) as json_reader:\n",
    "        dataset = json.load(json_reader)\n",
    "\n",
    "    images = dataset['images']\n",
    "\n",
    "    print(images)\n",
    "\n",
    "    image_ids = list(images.keys())\n",
    "    image_ids.sort()\n",
    "    random.shuffle(image_ids)\n",
    "\n",
    "    num_val = int(len(image_ids) * val_ratio)\n",
    "    num_train = len(image_ids) - num_val\n",
    "\n",
    "    image_ids_val, image_ids_train = set(image_ids[:num_val]), set(image_ids[num_val:])\n",
    "\n",
    "    train_images = {img_id: images[img_id] for img_id  in image_ids_train}\n",
    "    val_images = {img_id: images[img_id] for img_id  in image_ids_val}\n",
    "\n",
    "    train_data = {'images': train_images}\n",
    "    val_data = {'images': val_images}\n",
    "\n",
    "    output_seed_dir = os.path.join(output_dir, f'seed{random_seed}')\n",
    "    os.makedirs(output_seed_dir, exist_ok=True)\n",
    "    output_train_json = os.path.join(output_seed_dir, 'ufo/train.json')\n",
    "    output_val_json = os.path.join(output_seed_dir, 'ufo/val.json')\n",
    "\n",
    "    print(f'write {output_train_json}')\n",
    "    with open(output_train_json, 'w') as train_writer:\n",
    "        json.dump(train_data, train_writer)\n",
    "\n",
    "    print(f'write {output_val_json}')\n",
    "    with open(output_val_json, 'w') as val_writer:\n",
    "        json.dump(val_data, val_writer)"
   ]
  },
  {
   "cell_type": "code",
   "execution_count": 15,
   "metadata": {},
   "outputs": [
    {
     "name": "stderr",
     "output_type": "stream",
     "text": [
      "IOPub data rate exceeded.\n",
      "The Jupyter server will temporarily stop sending output\n",
      "to the client in order to avoid crashing it.\n",
      "To change this limit, set the config variable\n",
      "`--ServerApp.iopub_data_rate_limit`.\n",
      "\n",
      "Current values:\n",
      "ServerApp.iopub_data_rate_limit=1000000.0 (bytes/sec)\n",
      "ServerApp.rate_limit_window=3.0 (secs)\n",
      "\n"
     ]
    },
    {
     "name": "stdout",
     "output_type": "stream",
     "text": [
      "write /opt/ml/input/data/total/ufo/seed1/val.json\n"
     ]
    }
   ],
   "source": [
    "train_dir = '/opt/ml/input/data/total/ufo/'\n",
    "val_dir = '/opt/ml/input/data/total/ufo/'\n",
    "\n",
    "split_dataset(input_json='/opt/ml/input/data/total/ufo/train.json',\n",
    "              output_dir='/opt/ml/input/data/total/',\n",
    "              val_ratio=0.2,\n",
    "              random_seed=1)"
   ]
  }
 ],
 "metadata": {
  "kernelspec": {
   "display_name": "Python 3 (ipykernel)",
   "language": "python",
   "name": "python3"
  },
  "orig_nbformat": 4,
  "vscode": {
   "interpreter": {
    "hash": "d4d1e4263499bec80672ea0156c357c1ee493ec2b1c70f0acce89fc37c4a6abe"
   }
  }
 },
 "nbformat": 4,
 "nbformat_minor": 2
}
